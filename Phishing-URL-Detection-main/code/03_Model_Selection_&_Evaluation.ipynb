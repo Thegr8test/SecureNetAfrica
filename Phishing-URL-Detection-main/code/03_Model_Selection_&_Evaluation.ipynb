{
 "cells": [
  {
   "cell_type": "markdown",
   "id": "19ec12cf-8163-44f0-a014-b2cb171ed2f1",
   "metadata": {},
   "source": [
    " # **<span style=\"font-size:larger;\"> 03: <span style=\"color:blue\">Model Selection & Evaluation</span>** #"
   ]
  },
  {
   "cell_type": "markdown",
   "id": "fb959351-260a-452f-960c-33e521730805",
   "metadata": {},
   "source": [
    "#### Imports and Read-Ins:"
   ]
  },
  {
   "cell_type": "code",
   "execution_count": 1,
   "id": "0be48444-ac75-41dd-bf78-2b804872f6ca",
   "metadata": {},
   "outputs": [],
   "source": [
    "import numpy as np\n",
    "import pandas as pd\n",
    "import matplotlib.pyplot as plt\n",
    "import seaborn as sns\n",
    "from sklearn.model_selection import train_test_split, GridSearchCV, RandomizedSearchCV\n",
    "from sklearn.preprocessing import StandardScaler\n",
    "from sklearn.linear_model import LogisticRegression, LinearRegression, SGDClassifier\n",
    "from sklearn.tree import DecisionTreeClassifier\n",
    "from sklearn.ensemble import RandomForestClassifier, AdaBoostClassifier, GradientBoostingClassifier, ExtraTreesClassifier, BaggingClassifier\n",
    "from sklearn.svm import SVC, LinearSVC\n",
    "from sklearn.metrics import precision_score, recall_score, confusion_matrix, classification_report, accuracy_score, f1_score, ConfusionMatrixDisplay, plot_confusion_matrix\n",
    "from sklearn.neighbors import KNeighborsClassifier\n",
    "\n",
    "from xgboost import XGBClassifier\n",
    "import pickle\n",
    "\n",
    "import warnings\n",
    "warnings.filterwarnings(\"ignore\")"
   ]
  },
  {
   "cell_type": "code",
   "execution_count": 2,
   "id": "580850d4-5654-4902-87b2-b213af7c54c4",
   "metadata": {},
   "outputs": [],
   "source": [
    "import random\n",
    "random.seed(42)"
   ]
  },
  {
   "cell_type": "code",
   "execution_count": 3,
   "id": "f27f0932-a645-47bb-9322-0ece6c82005f",
   "metadata": {},
   "outputs": [],
   "source": [
    "df = pd.read_csv('../data/url_updated.csv')"
   ]
  },
  {
   "cell_type": "markdown",
   "id": "f662391d-fcc6-4ea4-820b-e21eba9b128e",
   "metadata": {},
   "source": [
    "# I. Model Setup"
   ]
  },
  {
   "cell_type": "markdown",
   "id": "7255a84c-3622-43b3-b1cc-6d1766fa5d0c",
   "metadata": {},
   "source": [
    "### Baseline"
   ]
  },
  {
   "cell_type": "code",
   "execution_count": 4,
   "id": "e9ec310a-65af-449a-909e-b542dd879a75",
   "metadata": {},
   "outputs": [
    {
     "data": {
      "text/plain": [
       "0    0.720935\n",
       "1    0.279065\n",
       "Name: phishing, dtype: float64"
      ]
     },
     "execution_count": 4,
     "metadata": {},
     "output_type": "execute_result"
    }
   ],
   "source": [
    "df['phishing'].value_counts(normalize=True)"
   ]
  },
  {
   "cell_type": "markdown",
   "id": "62942887-e775-4460-94a8-92a74f0c02ac",
   "metadata": {},
   "source": [
    "### Train Test Split"
   ]
  },
  {
   "cell_type": "code",
   "execution_count": 4,
   "id": "3d2a8069-f684-469f-bc99-7a45958b3285",
   "metadata": {},
   "outputs": [],
   "source": [
    "X = df.drop(columns=['url', 'protocol', 'domain', 'path', 'query', 'fragment','phishing'])\n",
    "\n",
    "y = df['phishing']\n",
    "\n",
    "X_train, X_test, y_train, y_test = train_test_split(X,y,random_state = 42, stratify = y )"
   ]
  },
  {
   "cell_type": "markdown",
   "id": "ee5920d5-b936-4f3a-8eec-0e57b42517b6",
   "metadata": {},
   "source": [
    "### Scale Data"
   ]
  },
  {
   "cell_type": "code",
   "execution_count": 6,
   "id": "37b6a2b9-e088-472b-af03-fa1ef10b7a18",
   "metadata": {},
   "outputs": [],
   "source": [
    "ss = StandardScaler()\n",
    "\n",
    "X_train_sc = ss.fit_transform(X_train)\n",
    "\n",
    "X_test_sc = ss.transform(X_test)"
   ]
  },
  {
   "cell_type": "markdown",
   "id": "da18ac72-e9b2-4fb6-b812-e93ae42a3e3b",
   "metadata": {},
   "source": [
    "# II. Model Selection"
   ]
  },
  {
   "cell_type": "markdown",
   "id": "250367c6-0120-4cda-bb33-e9fc8f6a7145",
   "metadata": {},
   "source": [
    "We will run a single model for each of the following 9 classifiers:\n",
    "\n",
    "- Stochastic Gradient Descent Classifier\n",
    "- Logistic Regression\n",
    "- AdaBoost\n",
    "- Gradient Boost\n",
    "- Decision Tree Classifier\n",
    "- Bagging Classifier\n",
    "- K-Nearest Neighbors Classifier\n",
    "- Extra Trees Classifier\n",
    "- Random Forest Classifier"
   ]
  },
  {
   "cell_type": "markdown",
   "id": "af37b869-613f-4ed0-86cf-6e47f850d8fa",
   "metadata": {},
   "source": [
    "Two functions are built to help aid our model selection process. One for scaled data and one for unscaled data."
   ]
  },
  {
   "cell_type": "code",
   "execution_count": 7,
   "id": "9f6e4f3c-9feb-403e-aba9-6140cfffc87a",
   "metadata": {},
   "outputs": [],
   "source": [
    "def get_scores_sc(model):\n",
    "    \n",
    "    # instantiate model\n",
    "    model = model()\n",
    "    \n",
    "    # fit to scaled data\n",
    "    model.fit(X_train_sc, y_train)\n",
    "    \n",
    "    # make predictions\n",
    "    preds = model.predict(X_test_sc)\n",
    "\n",
    "    # print results\n",
    "    print(f'{model} Training Score: {model.score(X_train_sc, y_train)}')\n",
    "    print(f'{model} Testing Score: {model.score(X_test_sc, y_test)}')\n",
    "    print()\n",
    "    print(classification_report(y_test, preds))\n",
    "    print(confusion_matrix(y_test, preds))\n",
    "\n",
    "    return"
   ]
  },
  {
   "cell_type": "code",
   "execution_count": 8,
   "id": "567083ba-634b-49dc-9e32-83655c117471",
   "metadata": {},
   "outputs": [],
   "source": [
    "def get_scores(model):\n",
    "    \n",
    "    # instantiate model\n",
    "    model = model()\n",
    "    \n",
    "    # fit to data\n",
    "    model.fit(X_train, y_train)\n",
    "    \n",
    "    # make predictions\n",
    "    preds = model.predict(X_test)\n",
    "\n",
    "    # print results\n",
    "    print(f'{model} Training Score: {model.score(X_train, y_train)}')\n",
    "    print(f'{model} Testing Score: {model.score(X_test, y_test)}')\n",
    "    print()\n",
    "    print(classification_report(y_test, preds))\n",
    "    print(confusion_matrix(y_test, preds))\n",
    "\n",
    "    return"
   ]
  },
  {
   "cell_type": "code",
   "execution_count": 9,
   "id": "9b1024f5-a56c-411a-b52f-632ca000c2fe",
   "metadata": {},
   "outputs": [
    {
     "name": "stdout",
     "output_type": "stream",
     "text": [
      "SGDClassifier() Training Score: 0.8677522647836823\n",
      "SGDClassifier() Testing Score: 0.8676671014259126\n",
      "\n",
      "              precision    recall  f1-score   support\n",
      "\n",
      "           0       0.86      0.98      0.91     98389\n",
      "           1       0.91      0.58      0.71     38085\n",
      "\n",
      "    accuracy                           0.87    136474\n",
      "   macro avg       0.89      0.78      0.81    136474\n",
      "weighted avg       0.87      0.87      0.86    136474\n",
      "\n",
      "[[96287  2102]\n",
      " [15958 22127]]\n"
     ]
    }
   ],
   "source": [
    "get_scores_sc(SGDClassifier)"
   ]
  },
  {
   "cell_type": "code",
   "execution_count": 10,
   "id": "cba422b8-66ba-4be5-b654-30d13796b239",
   "metadata": {},
   "outputs": [
    {
     "name": "stdout",
     "output_type": "stream",
     "text": [
      "AdaBoostClassifier() Training Score: 0.890550313735739\n",
      "AdaBoostClassifier() Testing Score: 0.8911953925289798\n",
      "\n",
      "              precision    recall  f1-score   support\n",
      "\n",
      "           0       0.88      0.98      0.93     98389\n",
      "           1       0.92      0.67      0.78     38085\n",
      "\n",
      "    accuracy                           0.89    136474\n",
      "   macro avg       0.90      0.82      0.85    136474\n",
      "weighted avg       0.89      0.89      0.89    136474\n",
      "\n",
      "[[96051  2338]\n",
      " [12511 25574]]\n"
     ]
    }
   ],
   "source": [
    "get_scores(AdaBoostClassifier)"
   ]
  },
  {
   "cell_type": "code",
   "execution_count": 11,
   "id": "3fa7a10b-aa81-45c2-b655-d38c74eecd04",
   "metadata": {},
   "outputs": [
    {
     "name": "stdout",
     "output_type": "stream",
     "text": [
      "GradientBoostingClassifier() Training Score: 0.89645377252266\n",
      "GradientBoostingClassifier() Testing Score: 0.8977680730395533\n",
      "\n",
      "              precision    recall  f1-score   support\n",
      "\n",
      "           0       0.89      0.98      0.93     98389\n",
      "           1       0.93      0.69      0.79     38085\n",
      "\n",
      "    accuracy                           0.90    136474\n",
      "   macro avg       0.91      0.83      0.86    136474\n",
      "weighted avg       0.90      0.90      0.89    136474\n",
      "\n",
      "[[96284  2105]\n",
      " [11847 26238]]\n"
     ]
    }
   ],
   "source": [
    "get_scores(GradientBoostingClassifier)"
   ]
  },
  {
   "cell_type": "code",
   "execution_count": 10,
   "id": "821a78b6-5382-4c5b-bb60-91b3c9bc4a9a",
   "metadata": {},
   "outputs": [
    {
     "name": "stdout",
     "output_type": "stream",
     "text": [
      "LogisticRegression() Training Score: 0.9251210856306833\n",
      "LogisticRegression() Testing Score: 0.9244911118601346\n",
      "\n",
      "              precision    recall  f1-score   support\n",
      "\n",
      "           0       0.91      0.99      0.95     98389\n",
      "           1       0.97      0.75      0.85     38085\n",
      "\n",
      "    accuracy                           0.92    136474\n",
      "   macro avg       0.94      0.87      0.90    136474\n",
      "weighted avg       0.93      0.92      0.92    136474\n",
      "\n",
      "[[97435   954]\n",
      " [ 9351 28734]]\n"
     ]
    }
   ],
   "source": [
    "get_scores_sc(LogisticRegression)"
   ]
  },
  {
   "cell_type": "code",
   "execution_count": 9,
   "id": "7d13d06a-e772-4634-9ab5-24eb9cf46c60",
   "metadata": {},
   "outputs": [
    {
     "name": "stdout",
     "output_type": "stream",
     "text": [
      "KNeighborsClassifier() Training Score: 0.9475894006413936\n",
      "KNeighborsClassifier() Testing Score: 0.9316866216275628\n",
      "\n",
      "              precision    recall  f1-score   support\n",
      "\n",
      "           0       0.94      0.97      0.95     98389\n",
      "           1       0.92      0.83      0.87     38085\n",
      "\n",
      "    accuracy                           0.93    136474\n",
      "   macro avg       0.93      0.90      0.91    136474\n",
      "weighted avg       0.93      0.93      0.93    136474\n",
      "\n",
      "[[95474  2915]\n",
      " [ 6408 31677]]\n"
     ]
    }
   ],
   "source": [
    "get_scores_sc(KNeighborsClassifier)"
   ]
  },
  {
   "cell_type": "code",
   "execution_count": 12,
   "id": "35141a59-c53e-4133-8974-54cbdab2541c",
   "metadata": {},
   "outputs": [
    {
     "name": "stdout",
     "output_type": "stream",
     "text": [
      "DecisionTreeClassifier() Training Score: 0.9790655584349606\n",
      "DecisionTreeClassifier() Testing Score: 0.9397687471606313\n",
      "\n",
      "              precision    recall  f1-score   support\n",
      "\n",
      "           0       0.95      0.97      0.96     98389\n",
      "           1       0.92      0.85      0.89     38085\n",
      "\n",
      "    accuracy                           0.94    136474\n",
      "   macro avg       0.93      0.91      0.92    136474\n",
      "weighted avg       0.94      0.94      0.94    136474\n",
      "\n",
      "[[95736  2653]\n",
      " [ 5567 32518]]\n"
     ]
    }
   ],
   "source": [
    "get_scores(DecisionTreeClassifier)"
   ]
  },
  {
   "cell_type": "code",
   "execution_count": 13,
   "id": "588b231d-2b43-4580-9ef1-97e7a7d5b2cc",
   "metadata": {},
   "outputs": [
    {
     "name": "stdout",
     "output_type": "stream",
     "text": [
      "BaggingClassifier() Training Score: 0.9759098824925933\n",
      "BaggingClassifier() Testing Score: 0.9426703987572724\n",
      "\n",
      "              precision    recall  f1-score   support\n",
      "\n",
      "           0       0.95      0.98      0.96     98389\n",
      "           1       0.94      0.85      0.89     38085\n",
      "\n",
      "    accuracy                           0.94    136474\n",
      "   macro avg       0.94      0.92      0.93    136474\n",
      "weighted avg       0.94      0.94      0.94    136474\n",
      "\n",
      "[[96158  2231]\n",
      " [ 5593 32492]]\n"
     ]
    }
   ],
   "source": [
    "get_scores(BaggingClassifier)"
   ]
  },
  {
   "cell_type": "code",
   "execution_count": 9,
   "id": "4ff8cd61-71ca-4d45-b893-6bc358e23d7c",
   "metadata": {},
   "outputs": [
    {
     "name": "stdout",
     "output_type": "stream",
     "text": [
      "ExtraTreesClassifier() Training Score: 0.9790655584349606\n",
      "ExtraTreesClassifier() Testing Score: 0.9435643419259346\n",
      "\n",
      "              precision    recall  f1-score   support\n",
      "\n",
      "           0       0.95      0.98      0.96     98389\n",
      "           1       0.93      0.86      0.89     38085\n",
      "\n",
      "    accuracy                           0.94    136474\n",
      "   macro avg       0.94      0.92      0.93    136474\n",
      "weighted avg       0.94      0.94      0.94    136474\n",
      "\n",
      "[[96078  2311]\n",
      " [ 5391 32694]]\n"
     ]
    }
   ],
   "source": [
    "get_scores(ExtraTreesClassifier)"
   ]
  },
  {
   "cell_type": "code",
   "execution_count": 10,
   "id": "0594a2d6-43e2-4ae7-8941-e011d6c71939",
   "metadata": {},
   "outputs": [
    {
     "name": "stdout",
     "output_type": "stream",
     "text": [
      "RandomForestClassifier() Training Score: 0.9790460186458437\n",
      "RandomForestClassifier() Testing Score: 0.9448906018728842\n",
      "\n",
      "              precision    recall  f1-score   support\n",
      "\n",
      "           0       0.95      0.98      0.96     98389\n",
      "           1       0.94      0.86      0.90     38085\n",
      "\n",
      "    accuracy                           0.94    136474\n",
      "   macro avg       0.94      0.92      0.93    136474\n",
      "weighted avg       0.94      0.94      0.94    136474\n",
      "\n",
      "[[96148  2241]\n",
      " [ 5280 32805]]\n"
     ]
    }
   ],
   "source": [
    "get_scores(RandomForestClassifier)"
   ]
  },
  {
   "cell_type": "markdown",
   "id": "78d42440-d373-465d-9e3e-349332fc5215",
   "metadata": {},
   "source": [
    "Random Forest Classifier will be used for model deployment as it had the highest testing score, as well as the highest recall score."
   ]
  },
  {
   "cell_type": "markdown",
   "id": "fd74b1c9-1c25-412a-92bc-b6762b361918",
   "metadata": {},
   "source": [
    "# III. Model Optimization"
   ]
  },
  {
   "cell_type": "markdown",
   "id": "3a816f14-aa01-48b3-b9f8-7d7bf8253d45",
   "metadata": {},
   "source": [
    "Using `RandomizedSearchCV`, we are able to find the best parameters for the model."
   ]
  },
  {
   "cell_type": "code",
   "execution_count": 17,
   "id": "82c91735-bb54-4f86-8c34-50e9b5635faa",
   "metadata": {},
   "outputs": [
    {
     "name": "stdout",
     "output_type": "stream",
     "text": [
      "Fitting 3 folds for each of 10 candidates, totalling 30 fits\n",
      "Best Parameters: {'n_estimators': 1400, 'min_samples_split': 5, 'min_samples_leaf': 1, 'max_features': 'sqrt', 'max_depth': 90, 'bootstrap': True}\n"
     ]
    }
   ],
   "source": [
    "rfc = RandomForestClassifier()\n",
    "rfc_params = {'bootstrap': [True, False],\n",
    "               'max_depth': [10, 20, 30, 40, 50, 60, 70, 80, 90, 100, None],\n",
    "               'max_features': ['auto', 'sqrt'],\n",
    "               'min_samples_leaf': [1, 2, 4],\n",
    "               'min_samples_split': [2, 5, 10],\n",
    "               'n_estimators': [200, 400, 600, 800, 1000, 1200, 1400, 1600]}\n",
    "\n",
    "rfc_random = RandomizedSearchCV(estimator = rfc, param_distributions = rfc_params, cv = 3, verbose=2, random_state=42, \n",
    "                                n_jobs = -1)\n",
    "rfc_random.fit(X_train, y_train)\n",
    "print(f'Best Parameters: {rfc_random.best_params_}')"
   ]
  },
  {
   "cell_type": "code",
   "execution_count": 5,
   "id": "1137985c-1046-4a9a-9a92-90d7c267b835",
   "metadata": {},
   "outputs": [
    {
     "name": "stdout",
     "output_type": "stream",
     "text": [
      "Training Score: 0.9696718048170465\n",
      "Testing Score: 0.9442238081978985\n",
      "\n",
      "              precision    recall  f1-score   support\n",
      "\n",
      "           0       0.95      0.98      0.96     98389\n",
      "           1       0.94      0.86      0.90     38085\n",
      "\n",
      "    accuracy                           0.94    136474\n",
      "   macro avg       0.94      0.92      0.93    136474\n",
      "weighted avg       0.94      0.94      0.94    136474\n",
      "\n",
      "[[96170  2219]\n",
      " [ 5393 32692]]\n"
     ]
    },
    {
     "data": {
      "image/png": "[encoded data removed]",
      "text/plain": [
       "<Figure size 432x288 with 2 Axes>"
      ]
     },
     "metadata": {
      "needs_background": "light"
     },
     "output_type": "display_data"
    }
   ],
   "source": [
    "rfc = RandomForestClassifier(n_estimators = 1400, min_samples_split= 5, min_samples_leaf= 1, max_features= 'sqrt', max_depth= 90, \n",
    "                             bootstrap= True, n_jobs= -1, random_state=42)\n",
    "rfc.fit(X_train, y_train)\n",
    "\n",
    "preds = rfc.predict(X_test)\n",
    "print(f'Training Score: {rfc.score(X_train, y_train)}')\n",
    "print(f'Testing Score: {rfc.score(X_test, y_test)}')\n",
    "print()\n",
    "print(classification_report(y_test,preds))\n",
    "print(confusion_matrix(y_test, preds))\n",
    "\n",
    "cm = confusion_matrix(y_test, preds)\n",
    "disp = ConfusionMatrixDisplay(confusion_matrix = cm, display_labels = rfc.classes_)\n",
    "disp.plot(cmap = 'Reds', values_format='');"
   ]
  },
  {
   "cell_type": "code",
   "execution_count": 7,
   "id": "0bc75ae5-578b-4d1e-ae9d-8b30376ba85c",
   "metadata": {},
   "outputs": [
    {
     "name": "stdout",
     "output_type": "stream",
     "text": [
      "Accuracy:  0.9442238081978985\n",
      "Misclassification Rate:  0.0557761918021015\n",
      "Recall:  0.8583956938427202\n",
      "Specificity:  0.9774466657858094\n",
      "Precision:  0.9364383718598722\n"
     ]
    }
   ],
   "source": [
    "tn, fp, fn, tp = confusion_matrix(y_test, preds).ravel()\n",
    "\n",
    "print(\"Accuracy: \", (tn + tp) / (tn + fp + fn + tp))\n",
    "print('Misclassification Rate: ', (fp+fn)/(tp+fp+tn+fn))\n",
    "print(\"Recall: \", tp / (tp + fn))\n",
    "print(\"Specificity: \", tn / (tn + fp))\n",
    "print(\"Precision: \", tp / (tp + fp))"
   ]
  },
  {
   "cell_type": "markdown",
   "id": "c932e994-36fc-4fc7-af16-cb63f9ffdb45",
   "metadata": {},
   "source": [
    "### Pickeling Model"
   ]
  },
  {
   "cell_type": "markdown",
   "id": "093e99c5-26d8-4d72-93c3-d339c7b42c44",
   "metadata": {},
   "source": [
    "We will pickel this model in order to use for deployment."
   ]
  },
  {
   "cell_type": "code",
   "execution_count": 19,
   "id": "646d1e5f-e074-4926-aa01-2700ab7cebb8",
   "metadata": {},
   "outputs": [],
   "source": [
    "pickle.dump(rfc, open('../streamlit_app/rfc.pkl','wb'))"
   ]
  },
  {
   "cell_type": "markdown",
   "id": "abee27ea-d7ec-4f07-ae21-c8c52c1c0d4c",
   "metadata": {},
   "source": [
    "# IV. Closer Look"
   ]
  },
  {
   "cell_type": "markdown",
   "id": "eeba3ee9-60e3-4b47-b8f3-558dcd18c935",
   "metadata": {},
   "source": [
    "A closer look into the importance of each feature can be analyzed."
   ]
  },
  {
   "cell_type": "code",
   "execution_count": 11,
   "id": "e5d14194-df81-4948-9d5d-cd181556c679",
   "metadata": {},
   "outputs": [
    {
     "name": "stdout",
     "output_type": "stream",
     "text": [
      "Variable: qty_dot_domain       Importance: 0.278\n",
      "Variable: url_length           Importance: 0.127\n",
      "Variable: qty_dot_url          Importance: 0.123\n",
      "Variable: domain_length        Importance: 0.112\n",
      "Variable: path_length          Importance: 0.091\n",
      "Variable: qty_dot_path         Importance: 0.047\n",
      "Variable: query_length         Importance: 0.031\n",
      "Variable: qty_slash_url        Importance: 0.03\n",
      "Variable: qty_hyphen_path      Importance: 0.024\n",
      "Variable: qty_slash_path       Importance: 0.024\n",
      "Variable: qty_dot_query        Importance: 0.017\n",
      "Variable: qty_hyphen_url       Importance: 0.016\n",
      "Variable: qty_hyphen_domain    Importance: 0.013\n",
      "Variable: qty_equal_url        Importance: 0.009\n",
      "Variable: qty_questionmark_url Importance: 0.007\n",
      "Variable: qty_and_url          Importance: 0.006\n",
      "Variable: qty_equal_path       Importance: 0.006\n",
      "Variable: qty_equal_query      Importance: 0.006\n",
      "Variable: qty_slash_query      Importance: 0.004\n",
      "Variable: qty_and_query        Importance: 0.004\n",
      "Variable: qty_plus_url         Importance: 0.003\n",
      "Variable: qty_hyphen_query     Importance: 0.003\n",
      "Variable: qty_questionmark_query Importance: 0.003\n",
      "Variable: qty_at_url           Importance: 0.002\n",
      "Variable: qty_tilde_url        Importance: 0.002\n",
      "Variable: qty_percent_url      Importance: 0.002\n",
      "Variable: qty_tilde_path       Importance: 0.002\n",
      "Variable: qty_plus_path        Importance: 0.002\n",
      "Variable: qty_at_query         Importance: 0.002\n",
      "Variable: qty_space_url        Importance: 0.001\n",
      "Variable: qty_comma_url        Importance: 0.001\n",
      "Variable: qty_percent_path     Importance: 0.001\n",
      "Variable: qty_plus_query       Importance: 0.001\n",
      "Variable: qty_percent_query    Importance: 0.001\n",
      "Variable: qty_exclamation_url  Importance: 0.0\n",
      "Variable: qty_asterisk_url     Importance: 0.0\n",
      "Variable: qty_hashtag_url      Importance: 0.0\n",
      "Variable: qty_dollar_url       Importance: 0.0\n",
      "Variable: qty_at_path          Importance: 0.0\n",
      "Variable: qty_and_path         Importance: 0.0\n",
      "Variable: qty_exclamation_path Importance: 0.0\n",
      "Variable: qty_space_path       Importance: 0.0\n",
      "Variable: qty_comma_path       Importance: 0.0\n",
      "Variable: qty_asterisk_path    Importance: 0.0\n",
      "Variable: qty_dollar_path      Importance: 0.0\n",
      "Variable: qty_exclamation_query Importance: 0.0\n",
      "Variable: qty_space_query      Importance: 0.0\n",
      "Variable: qty_tilde_query      Importance: 0.0\n",
      "Variable: qty_comma_query      Importance: 0.0\n",
      "Variable: qty_asterisk_query   Importance: 0.0\n",
      "Variable: qty_dollar_query     Importance: 0.0\n",
      "Variable: fragment_length      Importance: 0.0\n",
      "Variable: qty_dot_fragment     Importance: 0.0\n",
      "Variable: qty_hyphen_fragment  Importance: 0.0\n",
      "Variable: qty_slash_fragment   Importance: 0.0\n",
      "Variable: qty_questionmark_fragment Importance: 0.0\n",
      "Variable: qty_equal_fragment   Importance: 0.0\n",
      "Variable: qty_and_fragment     Importance: 0.0\n",
      "Variable: qty_exclamation_fragment Importance: 0.0\n",
      "Variable: qty_space_fragment   Importance: 0.0\n",
      "Variable: qty_comma_fragment   Importance: 0.0\n",
      "Variable: qty_asterisk_fragment Importance: 0.0\n",
      "Variable: qty_hashtag_fragment Importance: 0.0\n",
      "Variable: qty_dollar_fragment  Importance: 0.0\n",
      "Variable: qty_percent_fragment Importance: 0.0\n"
     ]
    }
   ],
   "source": [
    "# Create feature list\n",
    "feature_list = list(X.columns)\n",
    "\n",
    "# Get numerical feature importances\n",
    "importances = list(rfc.feature_importances_)\n",
    "\n",
    "# List of tuples with variable and importance\n",
    "feature_importances = [(feature, round(importance, 3)) for feature, importance in zip(feature_list, importances)]\n",
    "\n",
    "# Sort the feature importances by most important first\n",
    "feature_importances = sorted(feature_importances, key = lambda x: x[1], reverse = True)\n",
    "\n",
    "# Print\n",
    "[print('Variable: {:20} Importance: {}'.format(*pair)) for pair in feature_importances];"
   ]
  }
 ],
 "metadata": {
  "kernelspec": {
   "display_name": "Python 3",
   "language": "python",
   "name": "python3"
  },
  "language_info": {
   "codemirror_mode": {
    "name": "ipython",
    "version": 3
   },
   "file_extension": ".py",
   "mimetype": "text/x-python",
   "name": "python",
   "nbconvert_exporter": "python",
   "pygments_lexer": "ipython3",
   "version": "3.8.8"
  }
 },
 "nbformat": 4,
 "nbformat_minor": 5
}
